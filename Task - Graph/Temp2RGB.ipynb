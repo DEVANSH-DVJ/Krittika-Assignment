{
 "cells": [
  {
   "cell_type": "markdown",
   "metadata": {},
   "source": [
    "# Temperature of Black Body to its Color in RGB"
   ]
  },
  {
   "cell_type": "code",
   "execution_count": 1,
   "metadata": {},
   "outputs": [],
   "source": [
    "from matplotlib import pyplot as plt\n",
    "import numpy as np"
   ]
  },
  {
   "cell_type": "markdown",
   "metadata": {},
   "source": [
    "### Reading Table from the file\n",
    "Reference : https://stackoverflow.com/questions/37956344/reading-and-doing-calculation-from-dat-file-in-python (Answer by Bill)"
   ]
  },
  {
   "cell_type": "code",
   "execution_count": 2,
   "metadata": {},
   "outputs": [],
   "source": [
    "datContent = [i.strip().split() for i in open(\"bbr_color.txt\").readlines()]\n",
    "data = datContent[19:-1]"
   ]
  },
  {
   "cell_type": "markdown",
   "metadata": {},
   "source": [
    "### Extrating Content from Raw Data"
   ]
  },
  {
   "cell_type": "code",
   "execution_count": 3,
   "metadata": {},
   "outputs": [],
   "source": [
    "R=[]\n",
    "G=[]\n",
    "B=[]\n",
    "temp=[]\n",
    "\n",
    "for i in range(0, len(data), 2):\n",
    "    temp.append(float(data[i][0]))\n",
    "    R.append(float(data[i][6]))\n",
    "    G.append(float(data[i][7]))\n",
    "    B.append(float(data[i][8]))   "
   ]
  },
  {
   "cell_type": "markdown",
   "metadata": {},
   "source": [
    "### Finding a suitable polynomial which approx. fits the Temp-RGB relation\n",
    "Reference : https://stackoverflow.com/questions/21977786/star-b-v-color-index-to-apparent-rgb-color (Answer by DocLeonard)"
   ]
  },
  {
   "cell_type": "code",
   "execution_count": 4,
   "metadata": {},
   "outputs": [
    {
     "name": "stdout",
     "output_type": "stream",
     "text": [
      "redsPoly =  [8.070262721346884e-43, -1.7822365249781715e-37, 1.698550943439023e-32, -9.129690304649708e-28, 3.0329097323270086e-23, -6.408747736872114e-19, 8.520955811618884e-15, -6.767795593255865e-11, 2.871116181869308e-07, -0.0005616004467246696, 1.3752268737109337]\n",
      "greensPoly =  [9.41783374937086e-43, -2.0904603639676894e-37, 2.0046562200022528e-32, -1.0856465115272846e-27, 3.639668275215942e-23, -7.774218501050065e-19, 1.0453456993525022e-14, -8.342671794339795e-11, 3.390372713889161e-07, -0.00041373338121682504, 0.24265570846560314]\n",
      "bluesPoly =  [6.3450498895169725e-43, -1.5016093567517676e-37, 1.54246935772314e-32, -9.002772829335035e-28, 3.280207151424187e-23, -7.709035443731048e-19, 1.1634007450620049e-14, -1.0807782765342989e-10, 5.555046305575244e-07, -0.0011690728742620394, 0.7935359432315083]\n"
     ]
    },
    {
     "data": {
      "image/png": "[encoded data removed]",
      "text/plain": [
       "<Figure size 432x288 with 1 Axes>"
      ]
     },
     "metadata": {
      "needs_background": "light"
     },
     "output_type": "display_data"
    }
   ],
   "source": [
    "colors = [R,G,B]\n",
    "\n",
    "def smoothListGaussian(myarray, degree=10):\n",
    "    myarray = np.pad(myarray, (degree-1,degree-1), mode='edge')\n",
    "    window=degree*2-1\n",
    "    weight=np.arange(-degree+1, degree)/window\n",
    "    weight = np.exp(-(16*weight**2))\n",
    "    weight /= sum(weight)\n",
    "    smoothed = np.convolve(myarray, weight, mode='valid')\n",
    "    return smoothed\n",
    "\n",
    "i=0\n",
    "poly = []\n",
    "for color in colors:\n",
    "\n",
    "    color = smoothListGaussian(color)\n",
    "    x = np.array(temp)\n",
    "    y = np.array(color)\n",
    "    \n",
    "    names = [\"reds\",\"greens\",\"blues\"]\n",
    "    z = np.polyfit(x, y, 10)\n",
    "    f = np.poly1d(z)\n",
    "    plt.plot(x,f(x),str(names[i][0]+\"-\"))\n",
    "    print(\"%sPoly = \" % names[i], list(z))\n",
    "    poly.append(list(z))\n",
    "\n",
    "    i += 1\n",
    "plt.show()"
   ]
  },
  {
   "cell_type": "markdown",
   "metadata": {},
   "source": [
    "### Using the polynomial to convert Temperature to RGB"
   ]
  },
  {
   "cell_type": "code",
   "execution_count": 5,
   "metadata": {},
   "outputs": [],
   "source": [
    "redco = poly[0]\n",
    "#redco = [8.070262721346884e-43, -1.7822365249781715e-37, 1.698550943439023e-32, -9.129690304649708e-28, 3.0329097323270086e-23, -6.408747736872114e-19, 8.520955811618884e-15, -6.767795593255865e-11, 2.871116181869308e-07, -0.0005616004467246696, 1.3752268737109337]\n",
    "\n",
    "greenco = poly[1]\n",
    "#greenco = [9.41783374937086e-43, -2.0904603639676894e-37, 2.0046562200022528e-32, -1.0856465115272846e-27, 3.639668275215942e-23, -7.774218501050065e-19, 1.0453456993525022e-14, -8.342671794339795e-11, 3.390372713889161e-07, -0.00041373338121682504, 0.24265570846560314]\n",
    "\n",
    "blueco = poly[2]\n",
    "#blueco = [6.3450498895169725e-43, -1.5016093567517676e-37, 1.54246935772314e-32, -9.002772829335035e-28, 3.280207151424187e-23, -7.709035443731048e-19, 1.1634007450620049e-14, -1.0807782765342989e-10, 5.555046305575244e-07, -0.0011690728742620394, 0.7935359432315083]\n",
    "\n",
    "redco = np.poly1d(redco)\n",
    "greenco = np.poly1d(greenco)\n",
    "blueco = np.poly1d(blueco)\n",
    "\n",
    "def temp2rgb(temp):\n",
    "    red = redco(temp)\n",
    "    green = greenco(temp)\n",
    "    blue = blueco(temp)\n",
    "\n",
    "    if red > 1:\n",
    "        red = 1\n",
    "    elif red < 0:\n",
    "        red = 0\n",
    "    if green > 1:\n",
    "        green = 1\n",
    "    elif green < 0:\n",
    "        green = 0\n",
    "    if blue > 1:\n",
    "        blue = 1\n",
    "    elif blue < 0:\n",
    "        blue = 0\n",
    "\n",
    "    color = (red, green, blue)\n",
    "    return color"
   ]
  },
  {
   "cell_type": "code",
   "execution_count": 6,
   "metadata": {},
   "outputs": [
    {
     "data": {
      "text/plain": [
       "(1, 0.6855671322539724, 0.3978175593803121)"
      ]
     },
     "execution_count": 6,
     "metadata": {},
     "output_type": "execute_result"
    }
   ],
   "source": [
    "temp2rgb(4000)"
   ]
  },
  {
   "cell_type": "markdown",
   "metadata": {},
   "source": [
    "## The End"
   ]
  }
 ],
 "metadata": {
  "kernelspec": {
   "display_name": "Python 3",
   "language": "python",
   "name": "python3"
  },
  "language_info": {
   "codemirror_mode": {
    "name": "ipython",
    "version": 3
   },
   "file_extension": ".py",
   "mimetype": "text/x-python",
   "name": "python",
   "nbconvert_exporter": "python",
   "pygments_lexer": "ipython3",
   "version": "3.8.2"
  }
 },
 "nbformat": 4,
 "nbformat_minor": 4
}
